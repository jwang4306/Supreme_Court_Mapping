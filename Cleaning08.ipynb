{
 "cells": [
  {
   "cell_type": "code",
   "execution_count": 1,
   "id": "bce80f10",
   "metadata": {},
   "outputs": [],
   "source": [
    "import pandas as pd"
   ]
  },
  {
   "cell_type": "code",
   "execution_count": 2,
   "id": "ec6e9087",
   "metadata": {},
   "outputs": [],
   "source": [
    "import re"
   ]
  },
  {
   "cell_type": "code",
   "execution_count": 3,
   "id": "d5313d14",
   "metadata": {},
   "outputs": [],
   "source": [
    "appellate08 = pd.read_csv('C:/Users/jwang/OneDrive/Desktop/SupremeCourt/supreme_court/ap08on.txt', delimiter = \"\\t\", dtype = str)"
   ]
  },
  {
   "cell_type": "code",
   "execution_count": 4,
   "id": "b74e95e2",
   "metadata": {},
   "outputs": [],
   "source": [
    "appellate08['DOCKET'] = appellate08['DOCKET'].str[:2] + \"-\" + appellate08['DOCKET'].str[2:] #split the docket column into two and separated by a dash"
   ]
  },
  {
   "cell_type": "code",
   "execution_count": 5,
   "id": "6f03edc0",
   "metadata": {},
   "outputs": [],
   "source": [
    "#converting date-columns to proper datatype "
   ]
  },
  {
   "cell_type": "code",
   "execution_count": 6,
   "id": "f289d5c1",
   "metadata": {},
   "outputs": [],
   "source": [
    "date_data = ['DKTDATE', 'DDKTDATE', 'APPDATE', 'TRANSDATE', 'CRECDATE', 'BRFILED', 'SUBDATE', 'HEARDATE', 'JUDGDATE']"
   ]
  },
  {
   "cell_type": "code",
   "execution_count": 7,
   "id": "861db6a7",
   "metadata": {},
   "outputs": [],
   "source": [
    "for i in date_data: #loop through the list to convert to datetime format\n",
    "    appellate08[i] = pd.to_datetime(appellate08[i])"
   ]
  },
  {
   "cell_type": "code",
   "execution_count": 8,
   "id": "2dd4ba92",
   "metadata": {},
   "outputs": [],
   "source": [
    "appellate08['TAPEYEAR'] = pd.to_numeric(appellate08['TAPEYEAR']) #converts the tapeyear to integer/numeric "
   ]
  },
  {
   "cell_type": "code",
   "execution_count": 9,
   "id": "bc6469b3",
   "metadata": {},
   "outputs": [],
   "source": [
    "#convert names/subjects of the trials to strings"
   ]
  },
  {
   "cell_type": "code",
   "execution_count": 10,
   "id": "51d6de43",
   "metadata": {},
   "outputs": [],
   "source": [
    "names = ['APPELLAN', 'APPELLEE', 'AGENCY', 'DDIST', 'FEDCAP', 'DJUDGE', 'FILEFEE', 'STATUSCD', 'ENBANC', 'TRMFEE', 'TRMTYPE']"
   ]
  },
  {
   "cell_type": "code",
   "execution_count": 11,
   "id": "f880ffa8",
   "metadata": {},
   "outputs": [],
   "source": [
    "for i in names: #loop through the list to convert to string\n",
    "    appellate08[i] = appellate08[i].astype(str)"
   ]
  },
  {
   "cell_type": "code",
   "execution_count": null,
   "id": "09dd64e5",
   "metadata": {},
   "outputs": [],
   "source": [
    "#convert objects to categorical "
   ]
  },
  {
   "cell_type": "code",
   "execution_count": 14,
   "id": "97c662d0",
   "metadata": {},
   "outputs": [],
   "source": [
    "categorical  = ['CIRCUIT', 'REOPEN', 'USAPT', 'USAPE', 'APPTYPE', 'ORGPROC', 'AGENCY', 'JURIS', 'NOS', 'OFFENSE', 'DCIRC', \n",
    "               'DDIST', 'DOFFICE', 'FEDCAP', 'TRANSCODE', 'FILEFEE', 'DISP', 'OUTCOME', 'PROCTERM', 'METHOD', 'PUBSTAT',\n",
    "               'OPDISP', 'JOINAPP', 'OPINION', 'JDG1INV', 'JDG2INV', 'JDG3INV', 'PROSEFLE', 'PROSETRM', 'STATUSCD', 'ENBANC',\n",
    "               'TRMTYPE', 'TORPROCSUB', 'TRMFEE']"
   ]
  },
  {
   "cell_type": "code",
   "execution_count": 1,
   "id": "5174adf8",
   "metadata": {},
   "outputs": [
    {
     "ename": "NameError",
     "evalue": "name 'categorical' is not defined",
     "output_type": "error",
     "traceback": [
      "\u001b[1;31m---------------------------------------------------------------------------\u001b[0m",
      "\u001b[1;31mNameError\u001b[0m                                 Traceback (most recent call last)",
      "\u001b[1;32m<ipython-input-1-5d295841db34>\u001b[0m in \u001b[0;36m<module>\u001b[1;34m\u001b[0m\n\u001b[1;32m----> 1\u001b[1;33m \u001b[1;32mfor\u001b[0m \u001b[0mi\u001b[0m \u001b[1;32min\u001b[0m \u001b[0mcategorical\u001b[0m\u001b[1;33m:\u001b[0m \u001b[1;31m#loop through the list to convert to categorical\u001b[0m\u001b[1;33m\u001b[0m\u001b[1;33m\u001b[0m\u001b[0m\n\u001b[0m\u001b[0;32m      2\u001b[0m     \u001b[0mappellate08\u001b[0m\u001b[1;33m[\u001b[0m\u001b[0mi\u001b[0m\u001b[1;33m]\u001b[0m \u001b[1;33m=\u001b[0m \u001b[0mappellate08\u001b[0m\u001b[1;33m[\u001b[0m\u001b[0mi\u001b[0m\u001b[1;33m]\u001b[0m\u001b[1;33m.\u001b[0m\u001b[0mastype\u001b[0m\u001b[1;33m(\u001b[0m\u001b[1;34m'category'\u001b[0m\u001b[1;33m)\u001b[0m\u001b[1;33m\u001b[0m\u001b[1;33m\u001b[0m\u001b[0m\n",
      "\u001b[1;31mNameError\u001b[0m: name 'categorical' is not defined"
     ]
    }
   ],
   "source": [
    "for i in categorical: #loop through the list to convert to categorical\n",
    "    appellate08[i] = appellate08[i].astype('category')"
   ]
  },
  {
   "cell_type": "code",
   "execution_count": 16,
   "id": "71b294a8",
   "metadata": {},
   "outputs": [],
   "source": [
    "#saving the new format"
   ]
  },
  {
   "cell_type": "code",
   "execution_count": 18,
   "id": "ade1069b",
   "metadata": {},
   "outputs": [],
   "source": [
    "appellate08.to_csv('C:/Users/jwang/OneDrive/Desktop/SupremeCourt/new_data/cleaned_appellate08.csv')"
   ]
  }
 ],
 "metadata": {
  "kernelspec": {
   "display_name": "Python 3",
   "language": "python",
   "name": "python3"
  },
  "language_info": {
   "codemirror_mode": {
    "name": "ipython",
    "version": 3
   },
   "file_extension": ".py",
   "mimetype": "text/x-python",
   "name": "python",
   "nbconvert_exporter": "python",
   "pygments_lexer": "ipython3",
   "version": "3.8.8"
  }
 },
 "nbformat": 4,
 "nbformat_minor": 5
}
