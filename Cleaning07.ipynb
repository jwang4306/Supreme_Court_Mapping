{
 "cells": [
  {
   "cell_type": "code",
   "execution_count": 22,
   "id": "73dadefe",
   "metadata": {},
   "outputs": [],
   "source": [
    "import pandas as pd\n",
    "import re\n",
    "import statistics"
   ]
  },
  {
   "cell_type": "code",
   "execution_count": 23,
   "id": "9577a9ec",
   "metadata": {},
   "outputs": [],
   "source": [
    "appellate07 = pd.read_csv('C:/Users/jwang/OneDrive/Desktop/SupremeCourt/supreme_court/ap71to07.txt', delimiter = \"\\t\", dtype = str)"
   ]
  },
  {
   "cell_type": "code",
   "execution_count": 24,
   "id": "afee0d2b",
   "metadata": {},
   "outputs": [],
   "source": [
    "appellate07['DOCKET'] = appellate07['DOCKET'].str[:2] + \"-\" + appellate07['DOCKET'].str[2:] #split the docket column into two and separated by a dash"
   ]
  },
  {
   "cell_type": "code",
   "execution_count": null,
   "id": "a39a56f6",
   "metadata": {},
   "outputs": [],
   "source": [
    "#converting date-columns to proper datatype "
   ]
  },
  {
   "cell_type": "code",
   "execution_count": 25,
   "id": "664a4e82",
   "metadata": {},
   "outputs": [],
   "source": [
    "date_data = ['DKTDATE', 'DDKTDATE', 'APPDATE', 'CRECDATE', 'BRFILED', 'SUBDATE', 'HEARDATE', 'JUDGDATE', 'TERMDATE']"
   ]
  },
  {
   "cell_type": "code",
   "execution_count": 26,
   "id": "b4434611",
   "metadata": {},
   "outputs": [],
   "source": [
    "for i in date_data: #loop through the list to convert to datetime format\n",
    "    appellate07[i] = pd.to_datetime(appellate07[i])"
   ]
  },
  {
   "cell_type": "code",
   "execution_count": 27,
   "id": "dc6f3245",
   "metadata": {},
   "outputs": [
    {
     "data": {
      "text/plain": [
       "dtype('<M8[ns]')"
      ]
     },
     "execution_count": 27,
     "metadata": {},
     "output_type": "execute_result"
    }
   ],
   "source": [
    "appellate07['DKTDATE'].dtype"
   ]
  },
  {
   "cell_type": "code",
   "execution_count": 28,
   "id": "a540bd9c",
   "metadata": {},
   "outputs": [],
   "source": [
    "appellate07['TAPEYEAR'] = pd.to_numeric(appellate07['TAPEYEAR']) #converts the tapeyear to integer/numeric "
   ]
  },
  {
   "cell_type": "code",
   "execution_count": null,
   "id": "972b1690",
   "metadata": {},
   "outputs": [],
   "source": [
    "#convert names/subjects of the trials to strings"
   ]
  },
  {
   "cell_type": "code",
   "execution_count": 29,
   "id": "e2e0bcb2",
   "metadata": {},
   "outputs": [],
   "source": [
    "names = ['APPELLAN', 'APPELLEE', 'AGENCY', 'DDIST']"
   ]
  },
  {
   "cell_type": "code",
   "execution_count": 30,
   "id": "791227c5",
   "metadata": {},
   "outputs": [],
   "source": [
    "for i in names: #loop through the list to convert to string\n",
    "    appellate07[i] = appellate07[i].astype(str)"
   ]
  },
  {
   "cell_type": "code",
   "execution_count": null,
   "id": "1a5c0138",
   "metadata": {},
   "outputs": [],
   "source": [
    "#convert objects to categorical "
   ]
  },
  {
   "cell_type": "code",
   "execution_count": 34,
   "id": "bd9a8fcf",
   "metadata": {},
   "outputs": [],
   "source": [
    "category  = ['CIRCUIT', 'REOPEN', 'USAPT', 'USAPE', 'APPTYPE', 'ORGPROC', 'IFP', 'DIVOFF','AGENCY', 'JURIS', 'NOS', 'OFFENSE','OTHTYPE', 'DCIRC', \n",
    "               'DDIST', 'DOFFICE', 'DISP', 'OUTCOME', 'PROCTERM', 'METHOD', 'PUBSTAT', 'OPDISP', 'JOINAPP', 'OPINION', \n",
    "            'PROSEFLE', 'PROSETRM', 'STATUSCD','CPC', 'CPCDISC', 'JDGPANEL', 'CNSLAPP', 'CNSLCONT', 'CNSLDIS', 'CNSLCIR']"
   ]
  },
  {
   "cell_type": "code",
   "execution_count": 35,
   "id": "a007667d",
   "metadata": {},
   "outputs": [],
   "source": [
    "for i in category: #loop through the list to convert to categorical\n",
    "    appellate07[i] = appellate07[i].astype('category')"
   ]
  },
  {
   "cell_type": "code",
   "execution_count": 36,
   "id": "e00fd3f3",
   "metadata": {},
   "outputs": [],
   "source": [
    "#saving the new format"
   ]
  },
  {
   "cell_type": "code",
   "execution_count": 37,
   "id": "4ca69227",
   "metadata": {},
   "outputs": [],
   "source": [
    "appellate07.to_csv('C:/Users/jwang/OneDrive/Desktop/SupremeCourt/new_data/cleaned_appellate07.csv')"
   ]
  }
 ],
 "metadata": {
  "kernelspec": {
   "display_name": "Python 3",
   "language": "python",
   "name": "python3"
  },
  "language_info": {
   "codemirror_mode": {
    "name": "ipython",
    "version": 3
   },
   "file_extension": ".py",
   "mimetype": "text/x-python",
   "name": "python",
   "nbconvert_exporter": "python",
   "pygments_lexer": "ipython3",
   "version": "3.8.8"
  }
 },
 "nbformat": 4,
 "nbformat_minor": 5
}
